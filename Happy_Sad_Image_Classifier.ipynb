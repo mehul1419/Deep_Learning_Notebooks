{
  "nbformat": 4,
  "nbformat_minor": 0,
  "metadata": {
    "colab": {
      "name": "Happy_Sad_Image_Classifier.ipynb",
      "provenance": [],
      "authorship_tag": "ABX9TyNPDrW+1/DULQYt/ofv0T1v",
      "include_colab_link": true
    },
    "kernelspec": {
      "name": "python3",
      "display_name": "Python 3"
    }
  },
  "cells": [
    {
      "cell_type": "markdown",
      "metadata": {
        "id": "view-in-github",
        "colab_type": "text"
      },
      "source": [
        "<a href=\"https://colab.research.google.com/github/mehul1419/Deep_Learning_Notebooks/blob/master/Happy_Sad_Image_Classifier.ipynb\" target=\"_parent\"><img src=\"https://colab.research.google.com/assets/colab-badge.svg\" alt=\"Open In Colab\"/></a>"
      ]
    },
    {
      "cell_type": "code",
      "metadata": {
        "id": "OmECAm5Ko-aa",
        "colab_type": "code",
        "colab": {}
      },
      "source": [
        "import tensorflow as tf\n",
        "import os\n",
        "import zipfile\n",
        "import urllib\n",
        "urllib.request.urlretrieve(\"https://storage.googleapis.com/laurencemoroney-blog.appspot.com/happy-or-sad.zip\",\n",
        "                           filename=\"/tmp/happy-or-sad.zip\")\n",
        "\n",
        "zip_ref = zipfile.ZipFile(\"/tmp/happy-or-sad.zip\", 'r')\n",
        "zip_ref.extractall(\"/tmp/h-or-s\")\n",
        "zip_ref.close()"
      ],
      "execution_count": 1,
      "outputs": []
    },
    {
      "cell_type": "markdown",
      "metadata": {
        "id": "YFsDYkXlprfP",
        "colab_type": "text"
      },
      "source": [
        "Callback to stop training when accuracy reaches 99.9%"
      ]
    },
    {
      "cell_type": "code",
      "metadata": {
        "id": "M71-PiPOpLbe",
        "colab_type": "code",
        "colab": {}
      },
      "source": [
        "class myCallback(tf.keras.callbacks.Callback):\n",
        "  def on_epoch_end(self, epoch, logs={}):\n",
        "    if(logs.get('acc')>0.999):\n",
        "      print(\"\\nReached 99.9% accuracy so cancelling training!\")\n",
        "      self.model.stop_training = True\n",
        "callbacks = myCallback()"
      ],
      "execution_count": 2,
      "outputs": []
    },
    {
      "cell_type": "markdown",
      "metadata": {
        "id": "31F15uJ9p_WZ",
        "colab_type": "text"
      },
      "source": [
        "Define model with 3 convolutional Layers"
      ]
    },
    {
      "cell_type": "code",
      "metadata": {
        "id": "xupqvj5Hp8Mm",
        "colab_type": "code",
        "colab": {}
      },
      "source": [
        "model = tf.keras.models.Sequential([\n",
        "        tf.keras.layers.Conv2D(16, (3,3), activation='relu', input_shape=(150, 150, 3)),\n",
        "    tf.keras.layers.MaxPooling2D(2, 2),\n",
        "    # The second convolution\n",
        "    tf.keras.layers.Conv2D(32, (3,3), activation='relu'),\n",
        "    tf.keras.layers.MaxPooling2D(2,2),\n",
        "    # The third convolution\n",
        "    tf.keras.layers.Conv2D(64, (3,3), activation='relu'),\n",
        "    tf.keras.layers.MaxPooling2D(2,2),\n",
        "    # Flatten the results to feed into a DNN\n",
        "    tf.keras.layers.Flatten(),\n",
        "    # 512 neuron hidden layer\n",
        "    tf.keras.layers.Dense(512, activation='relu'),\n",
        "    # Only 1 output neuron. It will contain a value from 0-1 where 0 for 1 class\n",
        "    tf.keras.layers.Dense(1, activation='sigmoid')\n",
        "    ])"
      ],
      "execution_count": 3,
      "outputs": []
    },
    {
      "cell_type": "code",
      "metadata": {
        "id": "pkyMJiUCqKRN",
        "colab_type": "code",
        "colab": {}
      },
      "source": [
        "from tensorflow.keras.optimizers import RMSprop\n",
        "\n",
        "model.compile(loss='binary_crossentropy',\n",
        "              optimizer=RMSprop(lr=0.001),\n",
        "              metrics=['acc'])"
      ],
      "execution_count": 4,
      "outputs": []
    },
    {
      "cell_type": "code",
      "metadata": {
        "id": "fGIukXzaqN-F",
        "colab_type": "code",
        "colab": {
          "base_uri": "https://localhost:8080/",
          "height": 35
        },
        "outputId": "d77fd3ab-d180-478d-c5ba-bc7e4fbe87d2"
      },
      "source": [
        "from tensorflow.keras.preprocessing.image import ImageDataGenerator\n",
        "\n",
        "train_datagen = ImageDataGenerator(rescale=1/255)\n",
        "\n",
        "train_generator = train_datagen.flow_from_directory(\n",
        "      '/tmp/h-or-s/',  \n",
        "        target_size=(150, 150),  # All images will be resized to 150x150\n",
        "        batch_size=10,\n",
        "        class_mode='binary')"
      ],
      "execution_count": 5,
      "outputs": [
        {
          "output_type": "stream",
          "text": [
            "Found 80 images belonging to 2 classes.\n"
          ],
          "name": "stdout"
        }
      ]
    },
    {
      "cell_type": "code",
      "metadata": {
        "id": "N6XwFX37qXIb",
        "colab_type": "code",
        "colab": {
          "base_uri": "https://localhost:8080/",
          "height": 552
        },
        "outputId": "d3d4d295-4f43-4c45-d47b-df30bd7f0f2e"
      },
      "source": [
        "history = model.fit_generator(\n",
        "      train_generator,\n",
        "      steps_per_epoch=8,  \n",
        "      epochs=15,\n",
        "      verbose=1, callbacks=[callbacks])"
      ],
      "execution_count": 6,
      "outputs": [
        {
          "output_type": "stream",
          "text": [
            "WARNING:tensorflow:From <ipython-input-6-0ed473a21255>:5: Model.fit_generator (from tensorflow.python.keras.engine.training) is deprecated and will be removed in a future version.\n",
            "Instructions for updating:\n",
            "Please use Model.fit, which supports generators.\n",
            "Epoch 1/15\n",
            "8/8 [==============================] - 2s 245ms/step - loss: 3.3483 - acc: 0.4750\n",
            "Epoch 2/15\n",
            "8/8 [==============================] - 2s 236ms/step - loss: 0.6226 - acc: 0.6875\n",
            "Epoch 3/15\n",
            "8/8 [==============================] - 2s 236ms/step - loss: 0.4681 - acc: 0.8625\n",
            "Epoch 4/15\n",
            "8/8 [==============================] - 2s 236ms/step - loss: 0.1815 - acc: 0.9375\n",
            "Epoch 5/15\n",
            "8/8 [==============================] - 2s 236ms/step - loss: 0.3366 - acc: 0.8625\n",
            "Epoch 6/15\n",
            "8/8 [==============================] - 2s 237ms/step - loss: 0.1255 - acc: 0.9750\n",
            "Epoch 7/15\n",
            "8/8 [==============================] - 2s 239ms/step - loss: 0.0726 - acc: 0.9625\n",
            "Epoch 8/15\n",
            "8/8 [==============================] - 2s 238ms/step - loss: 0.0565 - acc: 0.9625\n",
            "Epoch 9/15\n",
            "8/8 [==============================] - 2s 238ms/step - loss: 0.2709 - acc: 0.9250\n",
            "Epoch 10/15\n",
            "8/8 [==============================] - 2s 239ms/step - loss: 0.0708 - acc: 0.9500\n",
            "Epoch 11/15\n",
            "8/8 [==============================] - 2s 240ms/step - loss: 0.0349 - acc: 0.9875\n",
            "Epoch 12/15\n",
            "8/8 [==============================] - ETA: 0s - loss: 0.0128 - acc: 1.0000\n",
            "Reached 99.9% accuracy so cancelling training!\n",
            "8/8 [==============================] - 2s 243ms/step - loss: 0.0128 - acc: 1.0000\n"
          ],
          "name": "stdout"
        }
      ]
    },
    {
      "cell_type": "code",
      "metadata": {
        "id": "KH1fYSOzqdCZ",
        "colab_type": "code",
        "colab": {}
      },
      "source": [
        ""
      ],
      "execution_count": null,
      "outputs": []
    }
  ]
}